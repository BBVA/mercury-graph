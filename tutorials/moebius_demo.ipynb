{
  "nbformat": 4,
  "nbformat_minor": 0,
  "metadata": {
    "colab": {
      "provenance": [],
      "authorship_tag": "ABX9TyNFbjSHZHxxsgMnLzZ69Vpv",
      "include_colab_link": true
    },
    "kernelspec": {
      "name": "python3",
      "display_name": "Python 3"
    },
    "language_info": {
      "name": "python"
    }
  },
  "cells": [
    {
      "cell_type": "markdown",
      "metadata": {
        "id": "view-in-github",
        "colab_type": "text"
      },
      "source": [
        "<a href=\"https://colab.research.google.com/github/BBVA/mercury-graph/blob/fix%2Fmoebius-issues/tutorials/moebius_demo.ipynb\" target=\"_parent\"><img src=\"https://colab.research.google.com/assets/colab-badge.svg\" alt=\"Open In Colab\"/></a>"
      ]
    },
    {
      "cell_type": "markdown",
      "source": [
        "# Vizualizing with mercury-graph: The Moebius Class"
      ],
      "metadata": {
        "id": "3xfunuPLJONz"
      }
    },
    {
      "cell_type": "markdown",
      "source": [
        "## Installing mercury-graph"
      ],
      "metadata": {
        "id": "ABMCd7JoJl2U"
      }
    },
    {
      "cell_type": "code",
      "source": [
        "# We need to install mercury-graph first. We get the latest version from PyPI.\n",
        "\n",
        "!pip install mercury-graph"
      ],
      "metadata": {
        "id": "oBZEj_ZnI6P8"
      },
      "execution_count": null,
      "outputs": []
    },
    {
      "cell_type": "markdown",
      "source": [
        "## Creating a simple graph"
      ],
      "metadata": {
        "id": "XUCgRliRKONA"
      }
    },
    {
      "cell_type": "code",
      "source": [
        "from mercury.graph.core.graph import Graph\n",
        "from mercury.graph.viz import Moebius\n",
        "\n",
        "import pandas as pd\n"
      ],
      "metadata": {
        "id": "9FRkZ_HgKWgm"
      },
      "execution_count": null,
      "outputs": []
    },
    {
      "cell_type": "code",
      "source": [
        "# We use a graph used in other tutorials. Get nodes and edges of the graph.\n",
        "\n",
        "edges = pd.read_csv('https://raw.githubusercontent.com/BBVA/mercury-graph/refs/heads/master/tutorials/data/fifa17_edges.csv', sep = '\\t')\n",
        "nodes = pd.read_csv('https://raw.githubusercontent.com/BBVA/mercury-graph/refs/heads/master/tutorials/data/fifa17_nodes.csv', sep = '\\t')"
      ],
      "metadata": {
        "id": "k-bWqamZKqFM"
      },
      "execution_count": null,
      "outputs": []
    },
    {
      "cell_type": "code",
      "source": [
        "# We examine the content and column names\n",
        "\n",
        "edges[0:5]"
      ],
      "metadata": {
        "id": "fY_NtFVrI6Uj"
      },
      "execution_count": null,
      "outputs": []
    },
    {
      "cell_type": "code",
      "source": [
        "nodes[0:5]"
      ],
      "metadata": {
        "id": "utIJWVmSK7mI"
      },
      "execution_count": null,
      "outputs": []
    },
    {
      "cell_type": "code",
      "source": [
        "# First, we create a simple dictionary with the column names correspondance.\n",
        "\n",
        "keys = {'src': 'ori', 'dst': 'dest', 'weight': 'times', 'id': 'name'}"
      ],
      "metadata": {
        "id": "AhZKrRw-I6ZO"
      },
      "execution_count": null,
      "outputs": []
    },
    {
      "cell_type": "code",
      "source": [
        "# Now, we create the graph\n",
        "\n",
        "G = Graph(data = edges, keys = keys, nodes = nodes)"
      ],
      "metadata": {
        "id": "k6myiemeI6bV"
      },
      "execution_count": null,
      "outputs": []
    },
    {
      "cell_type": "code",
      "source": [
        "G"
      ],
      "metadata": {
        "id": "bmDbiDBoI6eq"
      },
      "execution_count": null,
      "outputs": []
    },
    {
      "cell_type": "markdown",
      "source": [
        "## Start visualizing\n",
        "\n",
        "To visualize a graph, we just have to create a Moebius object passing the graph to the constructor.\n",
        "\n",
        "First, we try without any parameters other than the inital node."
      ],
      "metadata": {
        "id": "nQgdj6AbhAAl"
      }
    },
    {
      "cell_type": "code",
      "source": [
        "M = Moebius(G)"
      ],
      "metadata": {
        "id": "uxrtCNilI6hv"
      },
      "execution_count": null,
      "outputs": []
    },
    {
      "cell_type": "code",
      "source": [
        "# We provide the id of an inital node to expand. By default, its immediate\n",
        "# neighbors will be shown. If no id is given, it deploys the first node.\n",
        "\n",
        "M.show('Cristiano Ronaldo')"
      ],
      "metadata": {
        "id": "n5FyOyBLM4hP"
      },
      "execution_count": null,
      "outputs": []
    },
    {
      "cell_type": "markdown",
      "source": [
        "### Notice that:\n",
        "\n",
        "  - At first, you have just deployed the initial node and its neighbors.\n",
        "  - When you click on a node, a window shows on the left with the node's attributes.\n",
        "  - When you doble-click on a node that has a number (the number of edges not shown), all its edges are deployed.\n",
        "  - The inital nodes are shown with split color, the newly deployed nodes with full color.\n",
        "  - There is a search box. Try searching for \"Simone Verdi\" and you will add his subgraph to the current visualization.\n",
        "  - There is a menu on the right. In that menu you can select how nodes are shown."
      ],
      "metadata": {
        "id": "p48ibavCiY4b"
      }
    },
    {
      "cell_type": "markdown",
      "source": [
        "## Configuring the output via arguments\n",
        "\n",
        "We already mentioned that you can change the way nodes and edges are shown using the menu on the right. Everything in that menu and some more options can be controlled via arguments."
      ],
      "metadata": {
        "id": "LjlVoVpsmLug"
      }
    },
    {
      "cell_type": "code",
      "source": [
        "# The configuration expects a dictionary. Since it may de tricky to create it,\n",
        "# the Moebius object has a helper method to do that: node_or_edge_config()\n",
        "\n",
        "# We make a dictionary of colors by player position for some of the most\n",
        "# common positions.\n",
        "\n",
        "colors = {'Sub': '#606068', 'Res': '#808088', 'RCB': '#a05028',\n",
        "          'LCB': '#2850a0', 'GK': '#101018', 'LB': '#3060c0', 'RB': '#c06030',\n",
        "          'ST': '#80c080', 'LM': '#3870e0', 'RM': '#e07038', 'LAM': '#4880e0',\n",
        "          'RAM': '#e08040', 'LDM': '#3870d0', 'RDM': '#d07030'}\n",
        "\n",
        "# Create a configuration for the nodes\n",
        "\n",
        "node_conf = M.node_or_edge_config(text_is = 'id',\n",
        "                                  color_is = 'position',\n",
        "                                  colors = colors)\n",
        "\n",
        "# Create a configuration for the edges\n",
        "\n",
        "edge_conf = M.node_or_edge_config(size_is = 'weight', size_range = [1, 3])\n",
        "\n",
        "M.show('Manuel Neuer',\n",
        "       initial_depth = 2,\n",
        "       node_config = node_conf,\n",
        "       edge_config = edge_conf)"
      ],
      "metadata": {
        "id": "iTZqYB_wm-C_"
      },
      "execution_count": null,
      "outputs": []
    },
    {
      "cell_type": "markdown",
      "source": [
        "In this new visualization, we changed the depth of the initial deployment and initialized how nodes and edges are shown.\n",
        "\n",
        "Note that:\n",
        "\n",
        "  - We did not provide color for any possible position code. Those not given will use the default color.\n",
        "  - There is a color legend in the visualization that can also be hidden. It doesn't show all the colors, but only that of the deployed nodes."
      ],
      "metadata": {
        "id": "6Yx8n_TSIzX2"
      }
    }
  ]
}