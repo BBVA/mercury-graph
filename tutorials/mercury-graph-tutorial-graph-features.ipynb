{
  "nbformat": 4,
  "nbformat_minor": 0,
  "metadata": {
    "colab": {
      "provenance": []
    },
    "kernelspec": {
      "name": "python3",
      "display_name": "Python 3"
    },
    "language_info": {
      "name": "python"
    }
  },
  "cells": [
    {
      "cell_type": "markdown",
      "source": [
        "# Graph-Based Feature Engineering with Mercury Graph\n",
        "This notebook uses an AI-generated dataset to generate graph-based features using Mercury Graph."
      ],
      "metadata": {
        "id": "6iP4gH787MGt"
      }
    },
    {
      "cell_type": "markdown",
      "source": [
        "## Environment"
      ],
      "metadata": {
        "id": "JoU9NbUNWLPW"
      }
    },
    {
      "cell_type": "code",
      "source": [
        "!pip install graphframes\n",
        "!pip install anywidget\n",
        "!git clone --branch feature/graph_features --single-branch https://github.com/BBVA/mercury-graph.git\n",
        "%cd mercury-graph\n",
        "!git checkout feature/graph_features"
      ],
      "metadata": {
        "collapsed": true,
        "id": "bWznxL7nkCnh"
      },
      "execution_count": null,
      "outputs": []
    },
    {
      "cell_type": "markdown",
      "source": [
        "## Setting up the environment\n",
        "Let's start off by importing the necessary dependencies"
      ],
      "metadata": {
        "id": "uwJhIobWWT5o"
      }
    },
    {
      "cell_type": "code",
      "source": [
        "import pandas as pd\n",
        "import mercury.graph as mg\n",
        "from mercury.graph.ml.graph_features import GraphFeatures\n",
        "from pyspark.context import SparkContext\n",
        "from pyspark.sql import SparkSession"
      ],
      "metadata": {
        "id": "yBwOY-qievhB"
      },
      "execution_count": null,
      "outputs": []
    },
    {
      "cell_type": "markdown",
      "source": [
        "Let's set up a pyspark session"
      ],
      "metadata": {
        "id": "EGIpXErwZ0OT"
      }
    },
    {
      "cell_type": "code",
      "source": [
        "spark = (\n",
        "    SparkSession.builder.appName(\"graphs\")\n",
        "    .config(\"spark.jars.packages\", \"graphframes:graphframes:0.8.3-spark3.5-s_2.12\")\n",
        "    .getOrCreate()\n",
        ")"
      ],
      "metadata": {
        "id": "hFeNg5frZ3Os"
      },
      "execution_count": null,
      "outputs": []
    },
    {
      "cell_type": "markdown",
      "source": [
        "## Loading the data\n",
        "We now load the vertices and edges data directly from the CSV files available in the project repository."
      ],
      "metadata": {
        "id": "_ZTZVRG1W_Wd"
      }
    },
    {
      "cell_type": "code",
      "source": [
        "# Declare paths\n",
        "PATH = \"https://raw.githubusercontent.com/BBVA/mercury-graph/refs/heads/master/\"\n",
        "PATH_V = PATH + \"tutorials/data/chamberi_nodos.csv\"\n",
        "PATH_E = PATH + \"tutorials/data/chamberi_aristas.csv\"\n",
        "\n",
        "# Read data\n",
        "vertices = pd.read_csv(PATH_V, sep='\\t', usecols=[\"id\", \"facturación\", \"precio_medio\"])\n",
        "edges = pd.read_csv(PATH_E, sep = '\\t')\n",
        "\n",
        "# Rename columns\n",
        "vertices.columns = [\"id\", \"revenue\", \"mean_price\"]"
      ],
      "metadata": {
        "id": "oDAIoIrafEEP"
      },
      "execution_count": null,
      "outputs": []
    },
    {
      "cell_type": "markdown",
      "source": [
        "## Declare a graph\n",
        "\n",
        "* Construct a graph from the loaded nodes and edges, leveraging the core `Graph` class from Mercury-Graph."
      ],
      "metadata": {
        "id": "O8SOgZmuYGnF"
      }
    },
    {
      "cell_type": "code",
      "source": [
        "g = mg.core.Graph(\n",
        "    data=edges,\n",
        "    nodes=vertices,\n",
        "    keys={\"directed\": False}\n",
        ")"
      ],
      "metadata": {
        "id": "WZMOjqhNfkjo"
      },
      "execution_count": null,
      "outputs": []
    },
    {
      "cell_type": "markdown",
      "source": [
        "### Feature Engineering: Message Aggregation\n",
        "\n",
        "* The objective is to obtain the average revenue of all neighboring businesses.\n",
        "* Additionally, we also calculate the weighted average of this revenue level.\n",
        "\n",
        "By doing this, we go from having a single feature per node to three: the original value and two new variables, which provide additional information about the environment and relationships of each business."
      ],
      "metadata": {
        "id": "mDdwXzd9dDIv"
      }
    },
    {
      "cell_type": "code",
      "source": [
        "# Init GraphFeatures isntance\n",
        "gf = GraphFeatures(\n",
        "    attributes=[\"revenue\", \"mean_price\"],\n",
        "    agg_funcs=[\"min\", \"avg\", \"max\"]\n",
        ")\n",
        "\n",
        "# Fit instance\n",
        "gf.fit(g)\n",
        "\n",
        "# View generated attributes\n",
        "gf.node_features_.show(5)"
      ],
      "metadata": {
        "colab": {
          "base_uri": "https://localhost:8080/"
        },
        "id": "OH3zpPPtf_oc",
        "outputId": "9a4103f7-4b74-461a-b206-70afb2c78e53"
      },
      "execution_count": null,
      "outputs": [
        {
          "output_type": "stream",
          "name": "stderr",
          "text": [
            "/usr/local/lib/python3.11/dist-packages/pyspark/sql/dataframe.py:168: UserWarning: DataFrame.sql_ctx is an internal property, and will be removed in future releases. Use DataFrame.sparkSession instead.\n",
            "  warnings.warn(\n"
          ]
        },
        {
          "output_type": "stream",
          "name": "stdout",
          "text": [
            "+------------------+-----------+--------------+-----------------+--------------+-----------+--------------+\n",
            "|                id|revenue_min|mean_price_min|      revenue_avg|mean_price_avg|revenue_max|mean_price_max|\n",
            "+------------------+-----------+--------------+-----------------+--------------+-----------+--------------+\n",
            "|  Horno del Barrio|      27080|             5|         45481.25|          20.0|      74525|            40|\n",
            "|Juegos y Aventuras|      28120|            12|67619.66666666667|          37.0|     106788|            60|\n",
            "|La Boutique de Luz|      44688|            12|          75020.6|          33.4|     102090|            60|\n",
            "|        Gambón Hub|      44300|             5|          82942.0|          52.0|     141000|           150|\n",
            "|Flores de Chamberí|      16300|            20|          53330.0|         36.25|      98400|            60|\n",
            "+------------------+-----------+--------------+-----------------+--------------+-----------+--------------+\n",
            "only showing top 5 rows\n",
            "\n"
          ]
        }
      ]
    }
  ]
}